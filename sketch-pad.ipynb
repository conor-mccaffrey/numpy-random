{
 "cells": [
  {
   "cell_type": "markdown",
   "metadata": {},
   "source": [
    "# Second Notebook which will act as a Sketch Pad\n",
    "## Conor McCaffrey"
   ]
  },
  {
   "cell_type": "code",
   "execution_count": 2,
   "metadata": {},
   "outputs": [],
   "source": [
    "# Taking bits from different references"
   ]
  },
  {
   "cell_type": "code",
   "execution_count": 3,
   "metadata": {},
   "outputs": [
    {
     "name": "stdout",
     "output_type": "stream",
     "text": [
      "Hello World\n"
     ]
    }
   ],
   "source": [
    "## Initially getting familiar with Jupyter [1]\n",
    "print('Hello World')"
   ]
  },
  {
   "cell_type": "markdown",
   "metadata": {},
   "source": [
    "### Playing with Headings\n",
    "#### Still playing"
   ]
  },
  {
   "cell_type": "code",
   "execution_count": 4,
   "metadata": {},
   "outputs": [
    {
     "data": {
      "text/plain": [
       "3"
      ]
     },
     "execution_count": 4,
     "metadata": {},
     "output_type": "execute_result"
    }
   ],
   "source": [
    "1 + 2 "
   ]
  },
  {
   "cell_type": "code",
   "execution_count": 5,
   "metadata": {},
   "outputs": [],
   "source": [
    "# Efficient nummerical arrays\n",
    "import numpy as np\n",
    "# Plotting\n",
    "import matplotlib.pyplot as plt"
   ]
  },
  {
   "cell_type": "code",
   "execution_count": 12,
   "metadata": {},
   "outputs": [
    {
     "data": {
      "text/html": [
       "<div>\n",
       "<style scoped>\n",
       "    .dataframe tbody tr th:only-of-type {\n",
       "        vertical-align: middle;\n",
       "    }\n",
       "\n",
       "    .dataframe tbody tr th {\n",
       "        vertical-align: top;\n",
       "    }\n",
       "\n",
       "    .dataframe thead th {\n",
       "        text-align: right;\n",
       "    }\n",
       "</style>\n",
       "<table border=\"1\" class=\"dataframe\">\n",
       "  <thead>\n",
       "    <tr style=\"text-align: right;\">\n",
       "      <th></th>\n",
       "      <th>geography</th>\n",
       "      <th>geography_type</th>\n",
       "      <th>year</th>\n",
       "      <th>less_than_high_school_graduate</th>\n",
       "      <th>high_school_graduate</th>\n",
       "      <th>some_college_or_associate_s_degree</th>\n",
       "      <th>bachelor_s_degree_or_higher</th>\n",
       "      <th>location_1</th>\n",
       "      <th>:@computed_region_uph5_8hpn</th>\n",
       "      <th>:@computed_region_i2t2_cryp</th>\n",
       "    </tr>\n",
       "  </thead>\n",
       "  <tbody>\n",
       "    <tr>\n",
       "      <th>0</th>\n",
       "      <td>Atherton</td>\n",
       "      <td>Town</td>\n",
       "      <td>2014-01-01T00:00:00.000</td>\n",
       "      <td>13.6</td>\n",
       "      <td>12.3</td>\n",
       "      <td>2.7</td>\n",
       "      <td>3.5</td>\n",
       "      <td>{'type': 'Point', 'coordinates': [-122.2, 37.4...</td>\n",
       "      <td>2.0</td>\n",
       "      <td>28596</td>\n",
       "    </tr>\n",
       "    <tr>\n",
       "      <th>1</th>\n",
       "      <td>Colma</td>\n",
       "      <td>Town</td>\n",
       "      <td>2014-01-01T00:00:00.000</td>\n",
       "      <td>6.3</td>\n",
       "      <td>6.4</td>\n",
       "      <td>10.4</td>\n",
       "      <td>2.4</td>\n",
       "      <td>{'type': 'Point', 'coordinates': [-122.455556,...</td>\n",
       "      <td>4.0</td>\n",
       "      <td>28588</td>\n",
       "    </tr>\n",
       "    <tr>\n",
       "      <th>2</th>\n",
       "      <td>Foster City</td>\n",
       "      <td>City</td>\n",
       "      <td>2014-01-01T00:00:00.000</td>\n",
       "      <td>11.9</td>\n",
       "      <td>9.7</td>\n",
       "      <td>2.0</td>\n",
       "      <td>2.9</td>\n",
       "      <td>{'type': 'Point', 'coordinates': [-122.266389,...</td>\n",
       "      <td>6.0</td>\n",
       "      <td>319</td>\n",
       "    </tr>\n",
       "    <tr>\n",
       "      <th>3</th>\n",
       "      <td>Portola Valley</td>\n",
       "      <td>Town</td>\n",
       "      <td>2014-01-01T00:00:00.000</td>\n",
       "      <td>48.1</td>\n",
       "      <td>0.0</td>\n",
       "      <td>0.0</td>\n",
       "      <td>1.8</td>\n",
       "      <td>{'type': 'Point', 'coordinates': [-122.218611,...</td>\n",
       "      <td>14.0</td>\n",
       "      <td>28597</td>\n",
       "    </tr>\n",
       "    <tr>\n",
       "      <th>4</th>\n",
       "      <td>Redwood City</td>\n",
       "      <td>City</td>\n",
       "      <td>2014-01-01T00:00:00.000</td>\n",
       "      <td>16.4</td>\n",
       "      <td>10.6</td>\n",
       "      <td>6.6</td>\n",
       "      <td>3.0</td>\n",
       "      <td>{'type': 'Point', 'coordinates': [-122.236111,...</td>\n",
       "      <td>21.0</td>\n",
       "      <td>28607</td>\n",
       "    </tr>\n",
       "  </tbody>\n",
       "</table>\n",
       "</div>"
      ],
      "text/plain": [
       "        geography geography_type                     year  \\\n",
       "0        Atherton           Town  2014-01-01T00:00:00.000   \n",
       "1           Colma           Town  2014-01-01T00:00:00.000   \n",
       "2     Foster City           City  2014-01-01T00:00:00.000   \n",
       "3  Portola Valley           Town  2014-01-01T00:00:00.000   \n",
       "4    Redwood City           City  2014-01-01T00:00:00.000   \n",
       "\n",
       "   less_than_high_school_graduate  high_school_graduate  \\\n",
       "0                            13.6                  12.3   \n",
       "1                             6.3                   6.4   \n",
       "2                            11.9                   9.7   \n",
       "3                            48.1                   0.0   \n",
       "4                            16.4                  10.6   \n",
       "\n",
       "   some_college_or_associate_s_degree  bachelor_s_degree_or_higher  \\\n",
       "0                                 2.7                          3.5   \n",
       "1                                10.4                          2.4   \n",
       "2                                 2.0                          2.9   \n",
       "3                                 0.0                          1.8   \n",
       "4                                 6.6                          3.0   \n",
       "\n",
       "                                          location_1  \\\n",
       "0  {'type': 'Point', 'coordinates': [-122.2, 37.4...   \n",
       "1  {'type': 'Point', 'coordinates': [-122.455556,...   \n",
       "2  {'type': 'Point', 'coordinates': [-122.266389,...   \n",
       "3  {'type': 'Point', 'coordinates': [-122.218611,...   \n",
       "4  {'type': 'Point', 'coordinates': [-122.236111,...   \n",
       "\n",
       "   :@computed_region_uph5_8hpn  :@computed_region_i2t2_cryp  \n",
       "0                          2.0                        28596  \n",
       "1                          4.0                        28588  \n",
       "2                          6.0                          319  \n",
       "3                         14.0                        28597  \n",
       "4                         21.0                        28607  "
      ]
     },
     "execution_count": 12,
     "metadata": {},
     "output_type": "execute_result"
    }
   ],
   "source": [
    "#### Importing Pandas to load a dataset [2]\n",
    "import pandas as pd\n",
    "\n",
    "#data = pd.read_csv(\"ArXiv.csv\")\n",
    "\n",
    "#data.head()\n",
    "\n",
    "\n",
    "##### Now to load a numerical dataset using URL (JSON) [3,4]\n",
    "\n",
    "data1 = pd.read_json(\"https://data.smcgov.org/resource/mb6a-xn89.json\")\n",
    "\n",
    "data1.head()\n",
    "\n"
   ]
  },
  {
   "cell_type": "code",
   "execution_count": null,
   "metadata": {},
   "outputs": [],
   "source": []
  },
  {
   "cell_type": "code",
   "execution_count": null,
   "metadata": {},
   "outputs": [],
   "source": []
  },
  {
   "cell_type": "code",
   "execution_count": null,
   "metadata": {},
   "outputs": [],
   "source": []
  },
  {
   "cell_type": "code",
   "execution_count": null,
   "metadata": {},
   "outputs": [],
   "source": []
  },
  {
   "cell_type": "code",
   "execution_count": null,
   "metadata": {},
   "outputs": [],
   "source": []
  },
  {
   "cell_type": "code",
   "execution_count": null,
   "metadata": {},
   "outputs": [],
   "source": []
  },
  {
   "cell_type": "markdown",
   "metadata": {},
   "source": [
    "# References\n",
    "[1] https://medium.com/codingthesmartway-com-blog/getting-started-with-jupyter-notebook-for-python-4e7082bd5d46  <br>\n",
    "[2] https://evidencen.com/4-ways-to-load-data-in-jupyter-notebook-and-visual-studio-code/ <br>\n",
    "[3] https://dev.socrata.com/blog/2016/02/01/pandas-and-jupyter-notebook.html#importing-a-dataset-into-jupyter# <br>\n",
    "[4] https://datahub.smcgov.org/Government/Educational-Attainment/mb6a-xn89 <br>\n"
   ]
  },
  {
   "cell_type": "code",
   "execution_count": null,
   "metadata": {},
   "outputs": [],
   "source": [
    "## The End"
   ]
  }
 ],
 "metadata": {
  "kernelspec": {
   "display_name": "Python 3",
   "language": "python",
   "name": "python3"
  },
  "language_info": {
   "codemirror_mode": {
    "name": "ipython",
    "version": 3
   },
   "file_extension": ".py",
   "mimetype": "text/x-python",
   "name": "python",
   "nbconvert_exporter": "python",
   "pygments_lexer": "ipython3",
   "version": "3.8.8"
  }
 },
 "nbformat": 4,
 "nbformat_minor": 4
}
