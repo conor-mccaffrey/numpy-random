{
 "cells": [
  {
   "cell_type": "markdown",
   "id": "d0888656",
   "metadata": {},
   "source": [
    "# The Numpy Random Package\n",
    "\n",
    "[Official Documentation](https://numpy.org/doc/stable/reference/random/index.html)\n",
    "\n",
    "***"
   ]
  },
  {
   "cell_type": "code",
   "execution_count": 4,
   "id": "41025274-14ed-46ed-b67d-631479bd8b00",
   "metadata": {},
   "outputs": [],
   "source": [
    "# Efficient nummerical arrays\n",
    "import numpy as np\n",
    "# Plotting\n",
    "import matplotlib.pyplot as plt"
   ]
  },
  {
   "cell_type": "code",
   "execution_count": 5,
   "id": "363f5156-e2af-4abb-88c3-163000ba84e1",
   "metadata": {},
   "outputs": [],
   "source": [
    "# Change default stylesheet\n",
    "plt.style.use('ggplot')\n",
    "# Change default figure size took from reference 2\n",
    "plt.rcParams['figure.figsize'] = [12, 8]\n",
    "\n"
   ]
  },
  {
   "cell_type": "markdown",
   "id": "195cb21a-2b36-45b9-99c0-ad16d0e02872",
   "metadata": {},
   "source": [
    "\n",
    "\n",
    "## numpy.random.normal\n",
    "\n",
    "https://numpy.org/doc/stable/reference/random/generated/numpy.random.normal.html\n",
    "\n",
    "***"
   ]
  },
  {
   "cell_type": "code",
   "execution_count": 6,
   "id": "e1c43c2b-3428-42b7-9e2d-ac9a0ac5a900",
   "metadata": {},
   "outputs": [],
   "source": [
    "mu, sigma = 0, 0.1 # mean and standard deviation\n",
    "s = np.random.normal(mu, sigma, 1000)"
   ]
  },
  {
   "cell_type": "code",
   "execution_count": 7,
   "id": "660ebb38-6d98-4754-9bdb-90ad4dc85d35",
   "metadata": {},
   "outputs": [
    {
     "data": {
      "text/plain": [
       "array([ 0.1128391 , -0.02325835,  0.08039336, -0.13307247, -0.02470002,\n",
       "        0.03502699,  0.09210937, -0.13081144,  0.00584787,  0.0894868 ])"
      ]
     },
     "execution_count": 7,
     "metadata": {},
     "output_type": "execute_result"
    }
   ],
   "source": [
    "# Look at the first ten items\n",
    "s[:10]"
   ]
  },
  {
   "cell_type": "code",
   "execution_count": 8,
   "id": "8dfd837d-c9f7-4e2a-921b-27167089bd30",
   "metadata": {},
   "outputs": [
    {
     "data": {
      "text/plain": [
       "0.0015969682090993887"
      ]
     },
     "execution_count": 8,
     "metadata": {},
     "output_type": "execute_result"
    }
   ],
   "source": [
    "abs(mu - np.mean(s))"
   ]
  },
  {
   "cell_type": "code",
   "execution_count": 9,
   "id": "6b2de7be-b3e7-485e-965c-84d442439b4b",
   "metadata": {},
   "outputs": [
    {
     "data": {
      "text/plain": [
       "1.3492283708990693e-05"
      ]
     },
     "execution_count": 9,
     "metadata": {},
     "output_type": "execute_result"
    }
   ],
   "source": [
    "abs(sigma - np.std(s, ddof=1))"
   ]
  },
  {
   "cell_type": "code",
   "execution_count": 10,
   "id": "a814f7ee",
   "metadata": {},
   "outputs": [
    {
     "data": {
      "image/png": "[encoded data removed]",
      "text/plain": [
       "<Figure size 864x576 with 1 Axes>"
      ]
     },
     "metadata": {},
     "output_type": "display_data"
    }
   ],
   "source": [
    "count, bins, ignored = plt.hist(s, 30, density=True)\n",
    "f = 1/(sigma*np.sqrt(2*np.pi))*np.exp(-(bins-mu)**2/(2 * sigma**2))\n",
    "plt.plot(bins, f, linewidth=2)\n",
    "plt.show()"
   ]
  },
  {
   "cell_type": "markdown",
   "id": "c80a29d3",
   "metadata": {},
   "source": [
    "<br>\n",
    "\n",
    "## Rolling Dice\n",
    "\n",
    "***"
   ]
  },
  {
   "cell_type": "markdown",
   "id": "52b43dbb",
   "metadata": {},
   "source": [
    "Roll a single dice.\n",
    "\n",
    "https://numpy.org/doc/stable/reference/random/generated/numpy.random.randint.html"
   ]
  },
  {
   "cell_type": "code",
   "execution_count": 26,
   "id": "fa7502ef",
   "metadata": {},
   "outputs": [
    {
     "data": {
      "text/plain": [
       "3"
      ]
     },
     "execution_count": 26,
     "metadata": {},
     "output_type": "execute_result"
    }
   ],
   "source": [
    "# Pick a random integer between 1 (inclusive) and 7 (exclusive)\n",
    "np.random.randint(2, 7)"
   ]
  },
  {
   "cell_type": "markdown",
   "id": "f141717c",
   "metadata": {},
   "source": [
    "Roll several Dice"
   ]
  },
  {
   "cell_type": "code",
   "execution_count": 33,
   "id": "885c8c3d",
   "metadata": {},
   "outputs": [],
   "source": [
    "runs = 1000"
   ]
  },
  {
   "cell_type": "code",
   "execution_count": 34,
   "id": "a765c3dc",
   "metadata": {},
   "outputs": [],
   "source": [
    "# Pick a random integer between 1 (inclusive) and 7 (exclusive)\n",
    "dice =  np.random.randint(1, 7, runs)"
   ]
  },
  {
   "cell_type": "code",
   "execution_count": null,
   "id": "24f89bd6",
   "metadata": {},
   "outputs": [],
   "source": []
  },
  {
   "cell_type": "code",
   "execution_count": 35,
   "id": "340bdc02",
   "metadata": {},
   "outputs": [
    {
     "name": "stdout",
     "output_type": "stream",
     "text": [
      "[2 3 5 3 5 2 6 3 1 4 1 4 3 6 6 5 5 1 3 4 2 5 3 4 2 4 1 2 4 5 2 6 4 1 6 4 4\n",
      " 3 3 4 4 6 6 3 3 3 4 2 3 2 5 1 2 4 6 4 6 2 2 6 1 5 1 4 5 6 5 4 4 1 5 2 1 5\n",
      " 1 3 4 6 5 3 3 3 6 3 5 5 2 6 2 1 2 2 6 4 5 2 4 4 2 6 4 4 2 2 6 4 4 3 6 2 5\n",
      " 3 4 1 5 4 2 5 3 1 3 3 3 3 3 3 6 1 2 6 1 3 4 5 1 6 6 4 3 1 6 1 2 6 2 5 5 4\n",
      " 6 5 5 6 2 5 4 6 4 5 6 5 3 4 4 2 1 1 1 5 3 5 2 6 2 1 6 3 1 3 3 3 3 3 3 4 5\n",
      " 3 2 3 1 6 1 2 4 1 4 1 1 3 5 6 2 3 6 1 6 3 2 1 6 6 5 4 1 5 1 1 1 4 5 5 2 1\n",
      " 2 2 6 1 4 4 2 2 6 6 5 4 5 3 1 6 1 1 2 3 6 4 5 3 2 5 5 3 5 6 5 1 4 1 6 2 1\n",
      " 6 3 2 3 4 5 3 5 4 1 4 3 3 3 6 3 5 6 6 3 6 1 3 1 2 3 1 2 4 4 4 2 4 3 1 1 5\n",
      " 6 1 2 5 3 6 2 5 5 4 6 3 1 2 3 1 6 2 5 3 6 2 3 4 2 6 1 1 4 2 6 4 6 1 2 4 1\n",
      " 1 3 2 5 4 3 3 2 4 2 3 2 3 4 1 2 3 3 2 3 5 6 2 6 6 4 4 5 2 6 6 2 5 1 6 6 4\n",
      " 4 3 1 2 2 6 5 2 5 4 6 6 6 2 5 6 1 3 3 4 2 2 5 4 3 2 4 1 5 1 1 6 5 3 2 3 1\n",
      " 3 1 2 5 3 3 2 5 3 1 5 6 1 3 3 1 4 5 6 3 6 3 2 1 6 1 6 5 3 5 5 5 6 6 4 2 4\n",
      " 2 3 2 2 3 6 5 5 4 4 1 2 5 6 3 6 5 5 1 5 4 5 3 3 2 1 6 6 6 4 2 2 4 5 2 4 5\n",
      " 5 2 1 4 3 6 2 2 3 1 2 2 5 2 1 6 4 2 6 4 5 3 6 2 2 6 5 3 5 3 1 6 6 5 6 6 2\n",
      " 1 6 5 5 3 3 2 1 1 1 3 1 4 5 6 6 5 4 2 4 1 6 1 3 5 5 5 6 6 2 5 2 4 5 4 3 4\n",
      " 4 5 1 4 6 6 6 4 1 1 1 4 6 2 3 5 5 3 6 4 6 2 3 4 2 5 1 5 1 6 2 3 4 5 4 1 5\n",
      " 6 3 6 3 6 4 2 4 4 5 5 5 1 1 1 6 4 2 6 2 1 6 5 2 6 2 2 5 5 3 2 4 5 4 6 5 4\n",
      " 2 5 4 4 2 1 5 5 2 2 6 6 4 2 1 4 1 6 1 4 3 4 5 1 3 4 1 1 4 5 3 4 2 5 6 4 3\n",
      " 4 2 6 5 2 5 5 1 3 2 2 1 1 5 2 2 5 2 1 1 1 5 3 6 2 6 1 6 1 1 1 5 5 3 3 3 1\n",
      " 1 3 2 1 3 1 6 3 1 2 4 3 6 1 6 3 3 4 6 3 2 5 3 4 6 3 1 4 5 1 3 6 4 1 6 4 5\n",
      " 3 4 3 6 6 6 2 4 3 6 5 2 1 3 5 5 1 1 1 1 1 1 4 5 3 1 5 3 5 3 3 6 4 5 5 3 6\n",
      " 5 3 1 5 5 2 1 2 5 2 2 4 5 5 3 2 5 4 2 6 2 5 6 3 3 5 6 1 2 2 3 3 4 6 2 1 4\n",
      " 5 5 3 4 1 3 6 3 4 2 2 5 4 5 1 4 3 6 6 2 6 3 5 3 6 3 4 3 5 6 1 2 5 6 1 2 1\n",
      " 5 1 2 4 6 3 3 1 4 5 6 3 2 4 2 4 1 2 6 3 1 3 3 6 1 2 5 4 2 1 5 3 2 4 1 3 3\n",
      " 2 6 6 3 2 4 4 1 6 1 6 4 1 1 5 6 6 4 4 2 2 4 5 1 2 1 6 3 2 5 4 5 1 6 1 4 5\n",
      " 3 5 3 4 1 1 4 1 4 2 3 3 4 1 1 3 2 6 6 6 4 3 4 3 6 1 6 4 4 2 5 3 6 4 6 6 4\n",
      " 4 1 3 2 6 5 1 6 5 1 2 3 3 2 1 4 6 4 3 5 5 5 6 5 4 3 1 1 4 2 3 6 3 3 1 6 6\n",
      " 6]\n"
     ]
    }
   ],
   "source": [
    "# See the values\n",
    "print(dice)"
   ]
  },
  {
   "cell_type": "markdown",
   "id": "34c4fdc4",
   "metadata": {},
   "source": [
    "<br>\n",
    "\n",
    "## Plot the dice rolls\n",
    "\n",
    "https://numpy.org/doc/stable/reference/generated/numpy.unique.html\n",
    "\n",
    "\n",
    "***\n"
   ]
  },
  {
   "cell_type": "code",
   "execution_count": 39,
   "id": "2f4f2cf2",
   "metadata": {},
   "outputs": [
    {
     "data": {
      "text/plain": [
       "(array([1, 2, 3, 4, 5, 6]), array([167, 161, 176, 159, 165, 172], dtype=int64))"
      ]
     },
     "execution_count": 39,
     "metadata": {},
     "output_type": "execute_result"
    }
   ],
   "source": [
    "# Count the number of times each face appears\n",
    "faces, counts = np.unique(dice, return_counts = True)\n",
    "faces, counts"
   ]
  },
  {
   "cell_type": "code",
   "execution_count": 43,
   "id": "c3ba1a2e",
   "metadata": {},
   "outputs": [
    {
     "data": {
      "image/png": "[encoded data removed]",
      "text/plain": [
       "<Figure size 864x576 with 1 Axes>"
      ]
     },
     "metadata": {},
     "output_type": "display_data"
    }
   ],
   "source": [
    "# Create a new plot.\n",
    "fig , ax = plt.subplots()\n",
    "# Bar Chart\n",
    "plt.barh(faces, counts)\n",
    "# Set axes labels\n",
    "ax.set_ylabel('Face')\n",
    "ax.set_xlabel('Count');"
   ]
  },
  {
   "cell_type": "markdown",
   "id": "f33025d5",
   "metadata": {},
   "source": [
    "<br>\n",
    "\n",
    "## Roll more than one dice"
   ]
  },
  {
   "cell_type": "code",
   "execution_count": 51,
   "id": "50a9e413",
   "metadata": {},
   "outputs": [
    {
     "data": {
      "text/plain": [
       "array([[5, 3],\n",
       "       [4, 1],\n",
       "       [4, 2],\n",
       "       ...,\n",
       "       [5, 5],\n",
       "       [6, 2],\n",
       "       [2, 6]])"
      ]
     },
     "execution_count": 51,
     "metadata": {},
     "output_type": "execute_result"
    }
   ],
   "source": [
    "# The number of dice to roll in each turn\n",
    "nodice = 2\n",
    "# The number of turns\n",
    "noturns = 10000\n",
    "# Roll the dice\n",
    "dice =  np.random.randint(1, 7, (noturns, nodice))\n",
    "# Have a look\n",
    "dice"
   ]
  },
  {
   "cell_type": "code",
   "execution_count": 57,
   "id": "28ede75a",
   "metadata": {},
   "outputs": [
    {
     "data": {
      "text/plain": [
       "array([ 8,  5,  6, ..., 10,  8,  8])"
      ]
     },
     "execution_count": 57,
     "metadata": {},
     "output_type": "execute_result"
    }
   ],
   "source": [
    "# Sum the faces of the dice\n",
    "totals = np.sum(dice, axis =1)\n",
    "# Have a look\n",
    "totals"
   ]
  },
  {
   "cell_type": "code",
   "execution_count": 58,
   "id": "b1a93cce",
   "metadata": {},
   "outputs": [
    {
     "data": {
      "text/plain": [
       "(array([ 2,  3,  4,  5,  6,  7,  8,  9, 10, 11, 12]),\n",
       " array([ 273,  550,  846, 1090, 1396, 1679, 1448, 1114,  764,  577,  263],\n",
       "       dtype=int64))"
      ]
     },
     "execution_count": 58,
     "metadata": {},
     "output_type": "execute_result"
    }
   ],
   "source": [
    "# Count the number of times each face appears\n",
    "faces, counts = np.unique(totals, return_counts = True)\n",
    "faces, counts"
   ]
  },
  {
   "cell_type": "code",
   "execution_count": 59,
   "id": "c8e8ae3c",
   "metadata": {},
   "outputs": [
    {
     "data": {
      "image/png": "[encoded data removed]",
      "text/plain": [
       "<Figure size 864x576 with 1 Axes>"
      ]
     },
     "metadata": {},
     "output_type": "display_data"
    }
   ],
   "source": [
    "# Create a new plot.\n",
    "fig , ax = plt.subplots()\n",
    "# Bar Chart\n",
    "plt.bar(faces, counts)\n",
    "# Set axes labels\n",
    "ax.set_ylabel('Face')\n",
    "ax.set_xlabel('Count');"
   ]
  },
  {
   "cell_type": "markdown",
   "id": "9ee912e1",
   "metadata": {},
   "source": [
    "<br>\n",
    "\n",
    "## Lots of dice\n",
    "\n",
    "***\n"
   ]
  },
  {
   "cell_type": "code",
   "execution_count": 68,
   "id": "b7ebc028",
   "metadata": {},
   "outputs": [
    {
     "data": {
      "image/png": "[encoded data removed]",
      "text/plain": [
       "<Figure size 864x576 with 1 Axes>"
      ]
     },
     "metadata": {},
     "output_type": "display_data"
    }
   ],
   "source": [
    "# The number of dice to roll in each turn\n",
    "nodice = 100\n",
    "# The number of turns\n",
    "noturns = 10000\n",
    "# Roll the dice\n",
    "dice =  np.random.randint(1, 7, (noturns, nodice))\n",
    "# Sum the faces of the dice\n",
    "totals = np.sum(dice, axis =1)\n",
    "# Count the number of times each face appears\n",
    "faces, counts = np.unique(totals, return_counts = True)\n",
    "# Create a new plot.\n",
    "fig , ax = plt.subplots()\n",
    "# Bar Chart\n",
    "plt.bar(faces, counts)\n",
    "# Set axes labels\n",
    "ax.set_ylabel('Face total')\n",
    "ax.set_xlabel('Count');\n"
   ]
  },
  {
   "cell_type": "code",
   "execution_count": null,
   "id": "eeacdb7b",
   "metadata": {},
   "outputs": [],
   "source": []
  },
  {
   "cell_type": "code",
   "execution_count": null,
   "id": "02dec895",
   "metadata": {},
   "outputs": [],
   "source": []
  },
  {
   "cell_type": "code",
   "execution_count": null,
   "id": "2eeb5b1f",
   "metadata": {},
   "outputs": [],
   "source": []
  },
  {
   "cell_type": "code",
   "execution_count": null,
   "id": "ac9ae30b",
   "metadata": {},
   "outputs": [],
   "source": []
  },
  {
   "cell_type": "markdown",
   "id": "d7093b84-15c3-4368-85a3-737e32e4c3da",
   "metadata": {},
   "source": [
    "## References\n",
    "\n",
    "***\n",
    "\n",
    "[1] https://www.datacamp.com/community/tutorials/numpy-random <br>\n",
    "[2] https://stackoverflow.com/questions/36367986/how-to-make-inline-plots-in-jupyter-notebook-larger"
   ]
  },
  {
   "cell_type": "markdown",
   "id": "d98ed086-c085-43b7-8eb1-74b192b2e3b6",
   "metadata": {},
   "source": [
    "***\n",
    "\n",
    "## End\n"
   ]
  }
 ],
 "metadata": {
  "kernelspec": {
   "display_name": "Python 3",
   "language": "python",
   "name": "python3"
  },
  "language_info": {
   "codemirror_mode": {
    "name": "ipython",
    "version": 3
   },
   "file_extension": ".py",
   "mimetype": "text/x-python",
   "name": "python",
   "nbconvert_exporter": "python",
   "pygments_lexer": "ipython3",
   "version": "3.8.8"
  }
 },
 "nbformat": 4,
 "nbformat_minor": 5
}
